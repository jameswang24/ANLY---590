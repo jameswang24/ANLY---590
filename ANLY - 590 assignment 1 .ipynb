{
 "cells": [
  {
   "cell_type": "markdown",
   "metadata": {},
   "source": [
    "## ANLY - 590 assignment 1 \n",
    "### Jen Wang"
   ]
  },
  {
   "cell_type": "code",
   "execution_count": 1,
   "metadata": {},
   "outputs": [],
   "source": [
    "import pandas as pd\n",
    "import numpy as np\n",
    "import matplotlib.pyplot as plt\n",
    "from sklearn.preprocessing import scale\n",
    "from sklearn.linear_model import Lasso, LassoCV, Ridge, RidgeCV\n",
    "from sklearn import model_selection\n",
    "from sklearn.metrics import mean_squared_error\n",
    "import os"
   ]
  },
  {
   "cell_type": "markdown",
   "metadata": {},
   "source": [
    "## 1. Regularization\n",
    "### 1.1 LASSO"
   ]
  },
  {
   "cell_type": "code",
   "execution_count": 2,
   "metadata": {},
   "outputs": [],
   "source": [
    "os.chdir(\"/Users/james/Desktop\")"
   ]
  },
  {
   "cell_type": "code",
   "execution_count": 3,
   "metadata": {},
   "outputs": [],
   "source": [
    "data = pd.read_csv('Hitters.csv')\n",
    "data = data.dropna()"
   ]
  },
  {
   "cell_type": "code",
   "execution_count": 4,
   "metadata": {},
   "outputs": [],
   "source": [
    "y = data.Salary\n",
    "x = data.drop(['Unnamed: 0','Salary', 'League', 'Division', 'NewLeague'], axis=1).astype('float64')"
   ]
  },
  {
   "cell_type": "code",
   "execution_count": 5,
   "metadata": {},
   "outputs": [],
   "source": [
    "alphas = 10**np.linspace(6,-2,50)*0.5\n",
    "lasso = Lasso(max_iter=10000, normalize=True)\n",
    "coefs = []\n",
    "\n",
    "for a in alphas:\n",
    "    lasso.set_params(alpha=a)\n",
    "    lasso.fit(x, y)\n",
    "    coefs.append(lasso.coef_)\n",
    "    "
   ]
  },
  {
   "cell_type": "code",
   "execution_count": 6,
   "metadata": {},
   "outputs": [
    {
     "data": {
      "text/plain": [
       "AtBat      0.000000\n",
       "Hits       0.329475\n",
       "HmRun      0.000000\n",
       "Runs       0.000000\n",
       "RBI        0.000000\n",
       "Walks      0.000000\n",
       "Years      0.000000\n",
       "CAtBat     0.000000\n",
       "CHits      0.000000\n",
       "CHmRun     0.000000\n",
       "CRuns      0.076322\n",
       "CRBI       0.204475\n",
       "CWalks     0.000000\n",
       "PutOuts    0.000000\n",
       "Assists    0.000000\n",
       "Errors     0.000000\n",
       "dtype: float64"
      ]
     },
     "execution_count": 6,
     "metadata": {},
     "output_type": "execute_result"
    }
   ],
   "source": [
    "lasso.set_params(alpha=10)\n",
    "lasso.fit(x, y)\n",
    "pd.Series(lasso.coef_, index=x.columns)"
   ]
  },
  {
   "cell_type": "markdown",
   "metadata": {},
   "source": [
    "The final three predictors that remain in the model are 'Hits', 'CRuns' and 'CRBI'."
   ]
  },
  {
   "cell_type": "code",
   "execution_count": 13,
   "metadata": {},
   "outputs": [
    {
     "data": {
      "text/plain": [
       "<matplotlib.legend.Legend at 0x1a1eb86668>"
      ]
     },
     "execution_count": 13,
     "metadata": {},
     "output_type": "execute_result"
    },
    {
     "data": {
      "image/png": "[encoded data removed]",
      "text/plain": [
       "<Figure size 432x288 with 1 Axes>"
      ]
     },
     "metadata": {
      "needs_background": "light"
     },
     "output_type": "display_data"
    }
   ],
   "source": [
    "ax = plt.gca()\n",
    "ax.plot(alphas, coefs)\n",
    "ax.set_xscale('log')\n",
    "plt.axis('tight')\n",
    "plt.xlabel('alpha')\n",
    "plt.ylabel('weights')\n",
    "ax.legend(x.columns,loc = 'best')"
   ]
  },
  {
   "cell_type": "code",
   "execution_count": 60,
   "metadata": {
    "scrolled": true
   },
   "outputs": [
    {
     "name": "stdout",
     "output_type": "stream",
     "text": [
      "Alpha= 2.2410206769492604\n",
      "best model coefficients:\n"
     ]
    },
    {
     "data": {
      "text/plain": [
       "AtBat      0.000000\n",
       "Hits       0.329475\n",
       "HmRun      0.000000\n",
       "Runs       0.000000\n",
       "RBI        0.000000\n",
       "Walks      0.000000\n",
       "Years      0.000000\n",
       "CAtBat     0.000000\n",
       "CHits      0.000000\n",
       "CHmRun     0.000000\n",
       "CRuns      0.076322\n",
       "CRBI       0.204475\n",
       "CWalks     0.000000\n",
       "PutOuts    0.000000\n",
       "Assists    0.000000\n",
       "Errors     0.000000\n",
       "dtype: float64"
      ]
     },
     "execution_count": 60,
     "metadata": {},
     "output_type": "execute_result"
    }
   ],
   "source": [
    "X_train, X_test , y_train, y_test = model_selection.train_test_split(x, y, test_size=0.5, random_state=1)\n",
    "lassocv = LassoCV(alphas=None, cv=10, max_iter=100000, normalize=True)\n",
    "lassocv.fit(X_train, y_train)\n",
    "lasso.set_params(alpha=lassocv.alpha_)\n",
    "print(\"Alpha=\", lassocv.alpha_)\n",
    "print(\"best model coefficients:\")\n",
    "pd.Series(lasso.coef_, index=x.columns)"
   ]
  },
  {
   "cell_type": "markdown",
   "metadata": {},
   "source": [
    "There are six predictors left in the model."
   ]
  },
  {
   "cell_type": "markdown",
   "metadata": {},
   "source": [
    "### 1.2 Ridge "
   ]
  },
  {
   "cell_type": "code",
   "execution_count": 32,
   "metadata": {},
   "outputs": [
    {
     "data": {
      "text/plain": [
       "(50, 16)"
      ]
     },
     "execution_count": 32,
     "metadata": {},
     "output_type": "execute_result"
    }
   ],
   "source": [
    "ridge = Ridge(max_iter=10000, normalize=True)\n",
    "coefs = []\n",
    "\n",
    "for a in alphas:\n",
    "    ridge.set_params(alpha=a)\n",
    "    ridge.fit(x, y)\n",
    "    coefs.append(ridge.coef_)\n",
    "    "
   ]
  },
  {
   "cell_type": "code",
   "execution_count": 12,
   "metadata": {},
   "outputs": [
    {
     "data": {
      "text/plain": [
       "<matplotlib.legend.Legend at 0x1a1e9271d0>"
      ]
     },
     "execution_count": 12,
     "metadata": {},
     "output_type": "execute_result"
    },
    {
     "data": {
      "image/png": "[encoded data removed]",
      "text/plain": [
       "<Figure size 432x288 with 1 Axes>"
      ]
     },
     "metadata": {
      "needs_background": "light"
     },
     "output_type": "display_data"
    }
   ],
   "source": [
    "ax = plt.gca()\n",
    "ax.plot(alphas, coefs)\n",
    "ax.set_xscale('log')\n",
    "plt.axis('tight')\n",
    "plt.xlabel('alpha')\n",
    "plt.ylabel('weights')\n",
    "ax.legend(x.columns,loc = 'best')"
   ]
  },
  {
   "cell_type": "code",
   "execution_count": 63,
   "metadata": {},
   "outputs": [
    {
     "name": "stdout",
     "output_type": "stream",
     "text": [
      "Alpha= 0.45514908899576134\n",
      "best model coefficients:\n"
     ]
    },
    {
     "data": {
      "text/plain": [
       "AtBat     -0.082267\n",
       "Hits       0.907200\n",
       "HmRun     -0.696198\n",
       "Runs       0.662168\n",
       "RBI        1.579597\n",
       "Walks      2.133570\n",
       "Years     -0.012852\n",
       "CAtBat     0.005406\n",
       "CHits      0.053947\n",
       "CHmRun     0.544505\n",
       "CRuns      0.112042\n",
       "CRBI       0.135625\n",
       "CWalks     0.097948\n",
       "PutOuts    0.321575\n",
       "Assists    0.017361\n",
       "Errors     0.095642\n",
       "dtype: float64"
      ]
     },
     "execution_count": 63,
     "metadata": {},
     "output_type": "execute_result"
    }
   ],
   "source": [
    "ridgecv = RidgeCV(alphas=alphas, normalize=True)\n",
    "ridgecv.fit(X_train, y_train)\n",
    "print(\"Alpha=\", ridgecv.alpha_)\n",
    "ridge6 = Ridge(alpha=ridgecv.alpha_, normalize=True)\n",
    "ridge6.fit(X_train, y_train)\n",
    "print(\"best model coefficients:\")\n",
    "pd.Series(ridge6.coef_, index=x.columns)"
   ]
  },
  {
   "cell_type": "markdown",
   "metadata": {},
   "source": [
    "## 2. Short Answer"
   ]
  },
  {
   "cell_type": "markdown",
   "metadata": {},
   "source": [
    "I think bias-variance tradeoff is just like overfitting vs. underfitting. And the regularization is trying to reduce the overfitting problem, since regularization adds a penalty to constrain the coefficient. \n",
    "To describe the bias-varaince tradeoff from the plot above, according to the trajectories, we can say that when the alpha tends to be small, there is a low regularization weight have high variance and low bias. However, ton the right side of the plot, the penalty constrains the models with low variance models thay  has a much lower range of coefficients."
   ]
  },
  {
   "cell_type": "code",
   "execution_count": null,
   "metadata": {},
   "outputs": [],
   "source": []
  }
 ],
 "metadata": {
  "kernelspec": {
   "display_name": "Python 3",
   "language": "python",
   "name": "python3"
  },
  "language_info": {
   "codemirror_mode": {
    "name": "ipython",
    "version": 3
   },
   "file_extension": ".py",
   "mimetype": "text/x-python",
   "name": "python",
   "nbconvert_exporter": "python",
   "pygments_lexer": "ipython3",
   "version": "3.6.6"
  }
 },
 "nbformat": 4,
 "nbformat_minor": 2
}
