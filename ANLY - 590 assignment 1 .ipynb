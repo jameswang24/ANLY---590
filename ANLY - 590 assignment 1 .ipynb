{
 "cells": [
  {
   "cell_type": "code",
   "execution_count": 23,
   "metadata": {},
   "outputs": [],
   "source": [
    "import pandas as pd\n",
    "import numpy as np\n",
    "import matplotlib.pyplot as plt\n",
    "from sklearn.preprocessing import scale\n",
    "from sklearn.linear_model import Lasso, LassoCV, Ridge, RidgeCV\n",
    "from sklearn import model_selection\n",
    "from sklearn.metrics import mean_squared_error\n",
    "import os"
   ]
  },
  {
   "cell_type": "markdown",
   "metadata": {},
   "source": [
    "## 1. Regularization\n",
    "### 1.1 LASSO"
   ]
  },
  {
   "cell_type": "code",
   "execution_count": 10,
   "metadata": {},
   "outputs": [],
   "source": [
    "os.chdir(\"/Users/james/Desktop\")"
   ]
  },
  {
   "cell_type": "code",
   "execution_count": 14,
   "metadata": {},
   "outputs": [],
   "source": [
    "data = pd.read_csv('Hitters.csv')\n",
    "data = data.dropna()"
   ]
  },
  {
   "cell_type": "code",
   "execution_count": 17,
   "metadata": {},
   "outputs": [],
   "source": [
    "y = data.Salary\n",
    "x = data.drop(['Unnamed: 0','Salary', 'League', 'Division', 'NewLeague'], axis=1).astype('float64')"
   ]
  },
  {
   "cell_type": "code",
   "execution_count": 19,
   "metadata": {},
   "outputs": [],
   "source": [
    "alphas = 10**np.linspace(6,-2,50)*0.5\n",
    "lasso = Lasso(max_iter=10000, normalize=True)\n",
    "coefs = []\n",
    "\n",
    "for a in alphas:\n",
    "    lasso.set_params(alpha=a)\n",
    "    lasso.fit(x, y)\n",
    "    coefs.append(lasso.coef_)\n",
    "    "
   ]
  },
  {
   "cell_type": "code",
   "execution_count": 47,
   "metadata": {},
   "outputs": [
    {
     "data": {
      "text/plain": [
       "[array([-2.20123186,  7.78456871,  1.88199815, -1.98434046,  0.04984752,\n",
       "         6.10338927, -2.91369829, -0.1668718 ,  0.06271349, -0.15596462,\n",
       "         1.57652333,  0.76588089, -0.78796083,  0.29484798,  0.37732358,\n",
       "        -2.8372084 ])]"
      ]
     },
     "execution_count": 47,
     "metadata": {},
     "output_type": "execute_result"
    }
   ],
   "source": [
    "coefs"
   ]
  },
  {
   "cell_type": "code",
   "execution_count": 49,
   "metadata": {},
   "outputs": [
    {
     "data": {
      "text/plain": [
       "AtBat      0.000000\n",
       "Hits       0.329475\n",
       "HmRun      0.000000\n",
       "Runs       0.000000\n",
       "RBI        0.000000\n",
       "Walks      0.000000\n",
       "Years      0.000000\n",
       "CAtBat     0.000000\n",
       "CHits      0.000000\n",
       "CHmRun     0.000000\n",
       "CRuns      0.076322\n",
       "CRBI       0.204475\n",
       "CWalks     0.000000\n",
       "PutOuts    0.000000\n",
       "Assists    0.000000\n",
       "Errors     0.000000\n",
       "dtype: float64"
      ]
     },
     "execution_count": 49,
     "metadata": {},
     "output_type": "execute_result"
    }
   ],
   "source": [
    "lasso.set_params(alpha=10)\n",
    "lasso.fit(x, y)\n",
    "pd.Series(lasso.coef_, index=x.columns)"
   ]
  },
  {
   "cell_type": "markdown",
   "metadata": {},
   "source": [
    "The final three predictors that remain in the model are 'Hits', 'CRuns' and 'CRBI'."
   ]
  },
  {
   "cell_type": "code",
   "execution_count": 20,
   "metadata": {},
   "outputs": [
    {
     "data": {
      "text/plain": [
       "Text(0, 0.5, 'weights')"
      ]
     },
     "execution_count": 20,
     "metadata": {},
     "output_type": "execute_result"
    },
    {
     "data": {
      "image/png": "[encoded data removed]",
      "text/plain": [
       "<Figure size 432x288 with 1 Axes>"
      ]
     },
     "metadata": {
      "needs_background": "light"
     },
     "output_type": "display_data"
    }
   ],
   "source": [
    "ax = plt.gca()\n",
    "ax.plot(alphas, coefs)\n",
    "ax.set_xscale('log')\n",
    "plt.axis('tight')\n",
    "plt.xlabel('alpha')\n",
    "plt.ylabel('weights')"
   ]
  },
  {
   "cell_type": "code",
   "execution_count": 29,
   "metadata": {
    "scrolled": true
   },
   "outputs": [
    {
     "name": "stdout",
     "output_type": "stream",
     "text": [
      "Alpha= 2.2410206769492604\n",
      "best mse =  111160.39367053009\n",
      "best model coefficients:\n"
     ]
    },
    {
     "data": {
      "text/plain": [
       "AtBat      0.000000\n",
       "Hits       0.951516\n",
       "HmRun      0.000000\n",
       "Runs       0.000000\n",
       "RBI        0.402763\n",
       "Walks      2.774631\n",
       "Years      0.000000\n",
       "CAtBat     0.000000\n",
       "CHits      0.000000\n",
       "CHmRun     0.268635\n",
       "CRuns      0.000000\n",
       "CRBI       0.492185\n",
       "CWalks     0.000000\n",
       "PutOuts    0.394770\n",
       "Assists    0.000000\n",
       "Errors    -0.000000\n",
       "dtype: float64"
      ]
     },
     "execution_count": 29,
     "metadata": {},
     "output_type": "execute_result"
    }
   ],
   "source": [
    "X_train, X_test , y_train, y_test = model_selection.train_test_split(x, y, test_size=0.5, random_state=1)\n",
    "lassocv = LassoCV(alphas=None, cv=10, max_iter=100000, normalize=True)\n",
    "lassocv.fit(X_train, y_train)\n",
    "lasso.set_params(alpha=lassocv.alpha_)\n",
    "print(\"Alpha=\", lassocv.alpha_)\n",
    "lasso.fit(X_train, y_train)\n",
    "print(\"best mse = \",mean_squared_error(y_test, lasso.predict(X_test)))\n",
    "print(\"best model coefficients:\")\n",
    "pd.Series(lasso.coef_, index=x.columns)"
   ]
  },
  {
   "cell_type": "markdown",
   "metadata": {},
   "source": [
    "There are six predictors left in the model."
   ]
  },
  {
   "cell_type": "markdown",
   "metadata": {},
   "source": [
    "### 1.2 Ridge "
   ]
  },
  {
   "cell_type": "code",
   "execution_count": 32,
   "metadata": {},
   "outputs": [
    {
     "data": {
      "text/plain": [
       "(50, 16)"
      ]
     },
     "execution_count": 32,
     "metadata": {},
     "output_type": "execute_result"
    }
   ],
   "source": [
    "ridge = Ridge(max_iter=10000, normalize=True)\n",
    "coefs = []\n",
    "\n",
    "for a in alphas:\n",
    "    ridge.set_params(alpha=a)\n",
    "    ridge.fit(x, y)\n",
    "    coefs.append(ridge.coef_)\n",
    "    "
   ]
  },
  {
   "cell_type": "code",
   "execution_count": 33,
   "metadata": {},
   "outputs": [
    {
     "data": {
      "text/plain": [
       "Text(0, 0.5, 'weights')"
      ]
     },
     "execution_count": 33,
     "metadata": {},
     "output_type": "execute_result"
    },
    {
     "data": {
      "image/png": "[encoded data removed]",
      "text/plain": [
       "<Figure size 432x288 with 1 Axes>"
      ]
     },
     "metadata": {
      "needs_background": "light"
     },
     "output_type": "display_data"
    }
   ],
   "source": [
    "ax = plt.gca()\n",
    "ax.plot(alphas, coefs)\n",
    "ax.set_xscale('log')\n",
    "plt.axis('tight')\n",
    "plt.xlabel('alpha')\n",
    "plt.ylabel('weights')"
   ]
  },
  {
   "cell_type": "code",
   "execution_count": 36,
   "metadata": {},
   "outputs": [
    {
     "name": "stdout",
     "output_type": "stream",
     "text": [
      "Alpha= 0.45514908899576134\n",
      "mse =  105154.56370352609\n",
      "best model coefficients:\n"
     ]
    },
    {
     "data": {
      "text/plain": [
       "AtBat     -0.082267\n",
       "Hits       0.907200\n",
       "HmRun     -0.696198\n",
       "Runs       0.662168\n",
       "RBI        1.579597\n",
       "Walks      2.133570\n",
       "Years     -0.012852\n",
       "CAtBat     0.005406\n",
       "CHits      0.053947\n",
       "CHmRun     0.544505\n",
       "CRuns      0.112042\n",
       "CRBI       0.135625\n",
       "CWalks     0.097948\n",
       "PutOuts    0.321575\n",
       "Assists    0.017361\n",
       "Errors     0.095642\n",
       "dtype: float64"
      ]
     },
     "execution_count": 36,
     "metadata": {},
     "output_type": "execute_result"
    }
   ],
   "source": [
    "ridgecv = RidgeCV(alphas=alphas, normalize=True)\n",
    "ridgecv.fit(X_train, y_train)\n",
    "print(\"Alpha=\", ridgecv.alpha_)\n",
    "ridge6 = Ridge(alpha=ridgecv.alpha_, normalize=True)\n",
    "ridge6.fit(X_train, y_train)\n",
    "print(\"mse = \",mean_squared_error(y_test, ridge6.predict(X_test)))\n",
    "print(\"best model coefficients:\")\n",
    "pd.Series(ridge6.coef_, index=x.columns)"
   ]
  },
  {
   "cell_type": "markdown",
   "metadata": {},
   "source": [
    "## 2. Short Answer"
   ]
  },
  {
   "cell_type": "markdown",
   "metadata": {},
   "source": [
    "I think bias-variance tradeoff is just like overfitting vs. underfitting. And the regularization is trying to get the balance of both bias and variance can be the best "
   ]
  }
 ],
 "metadata": {
  "kernelspec": {
   "display_name": "Python 3",
   "language": "python",
   "name": "python3"
  },
  "language_info": {
   "codemirror_mode": {
    "name": "ipython",
    "version": 3
   },
   "file_extension": ".py",
   "mimetype": "text/x-python",
   "name": "python",
   "nbconvert_exporter": "python",
   "pygments_lexer": "ipython3",
   "version": "3.6.6"
  }
 },
 "nbformat": 4,
 "nbformat_minor": 2
}
